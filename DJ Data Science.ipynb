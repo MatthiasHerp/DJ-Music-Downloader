{
 "cells": [
  {
   "cell_type": "code",
   "execution_count": 126,
   "metadata": {},
   "outputs": [],
   "source": [
    "import os\n",
    "from os import walk\n",
    "import eyed3\n",
    "from eyed3.id3 import apple\n",
    "GRP1 = apple.GRP1\n",
    "import csv\n",
    "import numpy as np\n",
    "import pandas as pd\n",
    "%matplotlib inline \n",
    "import matplotlib.pyplot as plt"
   ]
  },
  {
   "cell_type": "code",
   "execution_count": 84,
   "metadata": {},
   "outputs": [
    {
     "name": "stdout",
     "output_type": "stream",
     "text": [
      "['04 Daddy (Clean).mp3', '01 Lonely (Extended) (Instrumental).mp3', 'Dumebi.mp3', '01 Wings (Extended Mix).mp3', '01 Down.mp3', '01 Fire Burning On The Dancefloor.mp3', '01 Move Up Ya Body (Original Mix).mp3', '01 Shen Yeng Anthem (Clean).mp3', '01 Drunk Girls In The Club (Clean).mp3', '01 Crazy (Radio Edit).mp3', '.DS_Store', '01 Later Bitches (Radio Edit) (Clean).mp3', '01 Money Play (Main).mp3', '01 Apologize (Sultan & Shepard Remix).mp3', '01 Toosie Slide (Intro Outro) (Dirty).mp3', '01 Trust The Process (Original Mix).mp3', '01 Like Glue (David S One Dance Remix).mp3', '01 Lights Go Down (Clean).mp3', '01 Falling Like Angels (Original Mix).mp3', '01 Break Your Heart.MP3.mp3', '01 Shed A Light (Radio Edit).mp3', '01 Fergalicious (N Code Bootleg Remix).mp3', '01 Knockout (Extended).mp3', '01 Anybody (Radio Edit).mp3', '01 Love Is Gone (Vuk Milivojevics Bad Things Remix).mp3', '01 Really Need You.mp3', '01 Walking On A Dream (Mike Foyle And X Vertigo Remix).mp3', '01 Condo (Clean).mp3', '01 Knockout (Extended) 1.mp3', '01 Con Calma.mp3', '01 Routine (Clean).mp3', '01 Kranium ft Ty Dolla Sign - Nobody Has To Know (Intro Outro) (Dirty).mp3', '01 One Wine (Instrumental).mp3', '01 Pookie (Remix) (Intro Outro) (Dirty).mp3', '01 Ay Ya Ya Ya (Snip Hitz) (Dirty).mp3', '01 Up All Night (Main).mp3', '01 Chu Chu (Intro Outro) (Dirty).mp3', '01 Gyal Wine To Di Top.mp3', '01 Down With You (Main).mp3', '01 Live My Life (Wideboys Radio Edit Remix).mp3', '01 Robin Schulz ft Marc Scibilia - Unforgettable (Radio Edit).mp3', '01 Legacy (Clean).mp3', '01 Camelot (Remix) (Dirty).mp3', '01 Head Knock (Clean).mp3', '01 Insane (Radio Edit).mp3', '01 Megan Thee Stallion - Ride Or Die (Intro Outro) (Clean).mp3', '01 Nuttin Nuh Go So (Intro Outro) (Dirty).mp3', '01 Rude Boy (Intro Outro) (Clean).mp3', 'Menage A Trois.mp3', '01 Too Many (Clean).mp3', 'Tek Weh Yuh Heart (Dirty).mp3', 'Gimme The Light (Intro) Club).Mp3', '01 Run Run Run (Original).mp3', '01 We Are The People (Axwell Remix).mp3', '01 100 Thousand (Dirty).mp3', '01 Uptown II (Dirty).mp3', '01 Love On Me (CID Remix).mp3', '01 El Chapo (Dirty).mp3', '01 Adan Y Eva (Radio Edit).mp3', '06 YES (Clean).mp3', '01 Tondo (Club Mix).mp3', '01 Criminal.mp3', '01 Senseless (Intro Outro) (Dirty).mp3', '01 Sensualidad.mp3', '01 Summer Time.mp3', '04 Lonely (Acapella).mp3', '01 Deep Inside 09 (Remix).mp3', '01 Shot & Wine (Intro Clean).mp3', '01 Hit Me Up (Clean).mp3', '01 Hipnosis.mp3', '01 Amantes De Una Noche.mp3', '01 Swing.mp3', '01 Are You With Me (Original Mix).mp3', '01 Stereo Love (Original Mix).mp3']\n"
     ]
    }
   ],
   "source": [
    "#Alle automatisch heruntergeladenen Songdateien werden aufgerufen die \n",
    "#vor der Automatischen Abspeicherung in der CSV heruntergeladen wurden.\n",
    "f = []\n",
    "for (dirpath, dirnames, filenames) in walk('/Users/maherp/Desktop/Downloaded Tracks'):\n",
    "    f.extend(filenames, )\n",
    "    break\n"
   ]
  },
  {
   "cell_type": "code",
   "execution_count": 144,
   "metadata": {},
   "outputs": [
    {
     "name": "stderr",
     "output_type": "stream",
     "text": [
      "Lame tag CRC check failed\n",
      "Lame tag CRC check failed\n"
     ]
    }
   ],
   "source": [
    "#Für Jede Datei wird der Titel, Künstlername und das Gruppierungstag welches die Playlistverknüpfung enthält gespeichert.\n",
    "t=[]\n",
    "a=[]\n",
    "p=[]\n",
    "i=0\n",
    "while i < len(f):\n",
    "    Pfad = os.path.join('/Users/maherp/Desktop/Downloaded Tracks', f[i])\n",
    "    audiofile = eyed3.load(Pfad)\n",
    "    if '.DS_Store' not in f[i] :\n",
    "        t.append(audiofile.tag.title)\n",
    "        a.append(audiofile.tag.artist)\n",
    "        p.append(audiofile.tag.frame_set[b\"GRP1\"][0].text.split(\" \")[0])\n",
    "    i += 1\n",
    "\n"
   ]
  },
  {
   "cell_type": "code",
   "execution_count": 148,
   "metadata": {},
   "outputs": [],
   "source": [
    "#Diese Inforamtionen werden in die CSV Datei geschrieben.\n",
    "writer = csv.writer(open(\"Spotify_FRP_to_Itunes_Downloader.csv\", \"w\"))\n",
    "writer.writerow([\"Titel\", \"Artist\", \"Playlist\"])\n",
    "\n",
    "i=0\n",
    "while i < len(t):\n",
    "    writer.writerow([t[i], a[i], p[i]])\n",
    "    i+=1"
   ]
  },
  {
   "cell_type": "code",
   "execution_count": 173,
   "metadata": {
    "scrolled": true
   },
   "outputs": [
    {
     "data": {
      "text/html": [
       "<div>\n",
       "<style scoped>\n",
       "    .dataframe tbody tr th:only-of-type {\n",
       "        vertical-align: middle;\n",
       "    }\n",
       "\n",
       "    .dataframe tbody tr th {\n",
       "        vertical-align: top;\n",
       "    }\n",
       "\n",
       "    .dataframe thead th {\n",
       "        text-align: right;\n",
       "    }\n",
       "</style>\n",
       "<table border=\"1\" class=\"dataframe\">\n",
       "  <thead>\n",
       "    <tr style=\"text-align: right;\">\n",
       "      <th></th>\n",
       "      <th>Titel</th>\n",
       "      <th>Artist</th>\n",
       "      <th>Playlist</th>\n",
       "    </tr>\n",
       "  </thead>\n",
       "  <tbody>\n",
       "    <tr>\n",
       "      <th>0</th>\n",
       "      <td>Daddy (Clean)</td>\n",
       "      <td>Blueface</td>\n",
       "      <td>auto_download</td>\n",
       "    </tr>\n",
       "    <tr>\n",
       "      <th>1</th>\n",
       "      <td>Lonely (Extended) (Instrumental)</td>\n",
       "      <td>Joel Corry</td>\n",
       "      <td>Dance</td>\n",
       "    </tr>\n",
       "    <tr>\n",
       "      <th>2</th>\n",
       "      <td>Dumebi (Major Lazer Remix) (Clean)</td>\n",
       "      <td>Rema</td>\n",
       "      <td>auto_download</td>\n",
       "    </tr>\n",
       "    <tr>\n",
       "      <th>3</th>\n",
       "      <td>Wings (Extended Mix)</td>\n",
       "      <td>Armand Van Helden</td>\n",
       "      <td>House</td>\n",
       "    </tr>\n",
       "    <tr>\n",
       "      <th>4</th>\n",
       "      <td>Down</td>\n",
       "      <td>Jay Sean ft Lil Wayne</td>\n",
       "      <td>2000er</td>\n",
       "    </tr>\n",
       "  </tbody>\n",
       "</table>\n",
       "</div>"
      ],
      "text/plain": [
       "                                Titel                 Artist       Playlist\n",
       "0                       Daddy (Clean)               Blueface  auto_download\n",
       "1    Lonely (Extended) (Instrumental)             Joel Corry          Dance\n",
       "2  Dumebi (Major Lazer Remix) (Clean)                   Rema  auto_download\n",
       "3                Wings (Extended Mix)      Armand Van Helden          House\n",
       "4                                Down  Jay Sean ft Lil Wayne         2000er"
      ]
     },
     "execution_count": 173,
     "metadata": {},
     "output_type": "execute_result"
    }
   ],
   "source": [
    "#Die CSV Datei wird mit Pandas als Dataframe aufgerufen.\n",
    "df = pd.read_csv(\"Spotify_FRP_to_Itunes_Downloader.csv\"\n",
    "                , delimiter=\",\")\n",
    "df.head()"
   ]
  },
  {
   "cell_type": "code",
   "execution_count": 195,
   "metadata": {},
   "outputs": [
    {
     "data": {
      "image/png": "[encoded data removed]",
      "text/plain": [
       "<Figure size 432x288 with 1 Axes>"
      ]
     },
     "metadata": {
      "needs_background": "light"
     },
     "output_type": "display_data"
    }
   ],
   "source": [
    "#Für die anzahl der Titel je Playlist wird ein Balkendiagramm erstellt.\n",
    "List1=[]\n",
    "List2=[]\n",
    "for i in df.Playlist.unique():\n",
    "    List1.append(i)\n",
    "    List2.append(len(df[df[\"Playlist\"]==i]))\n",
    "plt.bar(List1, List2, width=0.5)\n",
    "plt.xticks(rotation=45)\n",
    "plt.title('Titel je Playlist', {'fontsize': 15, 'fontweight' : 'bold'})\n",
    "plt.savefig('bar_chart.pdf')  "
   ]
  },
  {
   "cell_type": "code",
   "execution_count": 196,
   "metadata": {
    "scrolled": true
   },
   "outputs": [
    {
     "data": {
      "image/png": "[encoded data removed]",
      "text/plain": [
       "<Figure size 432x288 with 1 Axes>"
      ]
     },
     "metadata": {},
     "output_type": "display_data"
    }
   ],
   "source": [
    "#Für die anzahl der Titel je Playlist wird ein Kuchendiagramm erstellt.\n",
    "plt.pie(List2)\n",
    "plt.legend(df.Playlist.unique())\n",
    "plt.title('Titel je Playlist', {'fontsize': 15, 'fontweight' : 'bold'})\n",
    "plt.savefig('pie_chart.pdf')  "
   ]
  },
  {
   "cell_type": "code",
   "execution_count": null,
   "metadata": {},
   "outputs": [],
   "source": []
  }
 ],
 "metadata": {
  "kernelspec": {
   "display_name": "Python 3",
   "language": "python",
   "name": "python3"
  },
  "language_info": {
   "codemirror_mode": {
    "name": "ipython",
    "version": 3
   },
   "file_extension": ".py",
   "mimetype": "text/x-python",
   "name": "python",
   "nbconvert_exporter": "python",
   "pygments_lexer": "ipython3",
   "version": "3.7.6"
  }
 },
 "nbformat": 4,
 "nbformat_minor": 4
}
